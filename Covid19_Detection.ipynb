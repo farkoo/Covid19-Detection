{
  "nbformat": 4,
  "nbformat_minor": 0,
  "metadata": {
    "colab": {
      "name": "Covid19-Detection.ipynb",
      "provenance": [],
      "collapsed_sections": [],
      "mount_file_id": "1MteO7zSfF336MX8z7CFpBNdv67lGl_3H",
      "authorship_tag": "ABX9TyOJUXU9e8fTtWahReWNIthO",
      "include_colab_link": true
    },
    "kernelspec": {
      "name": "python3",
      "display_name": "Python 3"
    },
    "language_info": {
      "name": "python"
    }
  },
  "cells": [
    {
      "cell_type": "markdown",
      "metadata": {
        "id": "view-in-github",
        "colab_type": "text"
      },
      "source": [
        "<a href=\"https://colab.research.google.com/github/farkoo/Covid19-Detection-from-CTChest/blob/master/Covid19_Detection.ipynb\" target=\"_parent\"><img src=\"https://colab.research.google.com/assets/colab-badge.svg\" alt=\"Open In Colab\"/></a>"
      ]
    },
    {
      "cell_type": "code",
      "metadata": {
        "colab": {
          "base_uri": "https://localhost:8080/"
        },
        "id": "DaaiF9bHIDZh",
        "outputId": "fa8f32f8-3353-4dea-9ec6-f95c689d9e50"
      },
      "source": [
        "%cd drive/MyDrive"
      ],
      "execution_count": 39,
      "outputs": [
        {
          "output_type": "stream",
          "text": [
            "/content/drive/MyDrive\n"
          ],
          "name": "stdout"
        }
      ]
    },
    {
      "cell_type": "code",
      "metadata": {
        "colab": {
          "base_uri": "https://localhost:8080/"
        },
        "id": "3iiciEZLILWS",
        "outputId": "5574d19c-e19f-4366-aa33-8f0c468aaa84"
      },
      "source": [
        "!git clone \"https://github.com/farkoo/Covid19-Detection.git\""
      ],
      "execution_count": 42,
      "outputs": [
        {
          "output_type": "stream",
          "text": [
            "Cloning into 'Covid19-Detection'...\n",
            "remote: Enumerating objects: 13, done.\u001b[K\n",
            "remote: Counting objects: 100% (13/13), done.\u001b[K\n",
            "remote: Compressing objects: 100% (9/9), done.\u001b[K\n",
            "remote: Total 13 (delta 1), reused 0 (delta 0), pack-reused 0\u001b[K\n",
            "Unpacking objects: 100% (13/13), done.\n"
          ],
          "name": "stdout"
        }
      ]
    },
    {
      "cell_type": "code",
      "metadata": {
        "colab": {
          "base_uri": "https://localhost:8080/"
        },
        "id": "hWgrRZJoIRBR",
        "outputId": "7481e9e3-7b43-429d-e2e7-54a1d11af5da"
      },
      "source": [
        "%cd Covid19-Detection"
      ],
      "execution_count": 43,
      "outputs": [
        {
          "output_type": "stream",
          "text": [
            "/content/drive/My Drive/Covid19-Detection\n"
          ],
          "name": "stdout"
        }
      ]
    },
    {
      "cell_type": "code",
      "metadata": {
        "colab": {
          "base_uri": "https://localhost:8080/"
        },
        "id": "wjdi4yB-IhoX",
        "outputId": "e32053c4-a0d7-43b6-ad3e-3e36e563d57a"
      },
      "source": [
        "!7z x dataset.7z -odataset"
      ],
      "execution_count": 44,
      "outputs": [
        {
          "output_type": "stream",
          "text": [
            "\n",
            "7-Zip [64] 16.02 : Copyright (c) 1999-2016 Igor Pavlov : 2016-05-21\n",
            "p7zip Version 16.02 (locale=en_US.UTF-8,Utf16=on,HugeFiles=on,64 bits,2 CPUs Intel(R) Xeon(R) CPU @ 2.20GHz (406F0),ASM,AES-NI)\n",
            "\n",
            "Scanning the drive for archives:\n",
            "  0M Scan\b\b\b\b\b\b\b\b\b         \b\b\b\b\b\b\b\b\b1 file, 12417162 bytes (12 MiB)\n",
            "\n",
            "Extracting archive: dataset.7z\n",
            "--\n",
            "Path = dataset.7z\n",
            "Type = 7z\n",
            "Physical Size = 12417162\n",
            "Headers Size = 1053\n",
            "Method = LZMA:23\n",
            "Solid = +\n",
            "Blocks = 1\n",
            "\n",
            "  0%\b\b\b\b    \b\b\b\b 25%\b\b\b\b    \b\b\b\b 25% 16 - dataset/covid/17.jpeg\b\b\b\b\b\b\b\b\b\b\b\b\b\b\b\b\b\b\b\b\b\b\b\b\b\b\b\b\b\b\b                               \b\b\b\b\b\b\b\b\b\b\b\b\b\b\b\b\b\b\b\b\b\b\b\b\b\b\b\b\b\b\b 59% 16 - dataset/covid/17.jpeg\b\b\b\b\b\b\b\b\b\b\b\b\b\b\b\b\b\b\b\b\b\b\b\b\b\b\b\b\b\b\b                               \b\b\b\b\b\b\b\b\b\b\b\b\b\b\b\b\b\b\b\b\b\b\b\b\b\b\b\b\b\b\b 76% 26 - dataset/normal/2.jpeg\b\b\b\b\b\b\b\b\b\b\b\b\b\b\b\b\b\b\b\b\b\b\b\b\b\b\b\b\b\b\b                               \b\b\b\b\b\b\b\b\b\b\b\b\b\b\b\b\b\b\b\b\b\b\b\b\b\b\b\b\b\b\b 92% 27 - dataset/normal/3.jpeg\b\b\b\b\b\b\b\b\b\b\b\b\b\b\b\b\b\b\b\b\b\b\b\b\b\b\b\b\b\b\b                               \b\b\b\b\b\b\b\b\b\b\b\b\b\b\b\b\b\b\b\b\b\b\b\b\b\b\b\b\b\b\bEverything is Ok\n",
            "\n",
            "Folders: 3\n",
            "Files: 50\n",
            "Size:       12715586\n",
            "Compressed: 12417162\n"
          ],
          "name": "stdout"
        }
      ]
    },
    {
      "cell_type": "code",
      "metadata": {
        "id": "xAwwPCVTIxPS"
      },
      "source": [
        "from tensorflow.keras.preprocessing.image import ImageDataGenerator\n",
        "from tensorflow.keras.applications import VGG16\n",
        "from tensorflow.keras.layers import AveragePooling2D, Dropout, Flatten, Dense, Input\n",
        "from tensorflow.keras.models import Model\n",
        "from tensorflow.keras.optimizers import Adam\n",
        "from tensorflow.keras.utils import to_categorical\n",
        "from sklearn.preprocessing import LabelBinarizer\n",
        "from sklearn.model_selection import train_test_split\n",
        "from sklearn.metrics import classification_report, confusion_matrix\n",
        "from imutils import paths\n",
        "import matplotlib.pyplot as plt\n",
        "import numpy as np\n",
        "import argparse\n",
        "import cv2\n",
        "import os\n",
        "import random"
      ],
      "execution_count": 94,
      "outputs": []
    },
    {
      "cell_type": "code",
      "metadata": {
        "colab": {
          "base_uri": "https://localhost:8080/"
        },
        "id": "EWbjYUErLrzd",
        "outputId": "8db0f6af-48d0-49d0-a036-b2453c102c9a"
      },
      "source": [
        "%cd dataset"
      ],
      "execution_count": 49,
      "outputs": [
        {
          "output_type": "stream",
          "text": [
            "/content/drive/My Drive/Covid19-Detection/dataset/dataset\n"
          ],
          "name": "stdout"
        }
      ]
    },
    {
      "cell_type": "code",
      "metadata": {
        "id": "KcbyPvrGIm-s"
      },
      "source": [
        "# Hyper parameters\n",
        "learning_rate = 1e-3\n",
        "epochs = 20\n",
        "batch_size = 8\n",
        "dir = 'dataset/dataset'\n",
        "width = 224\n",
        "height = 224\n",
        "classes = 2"
      ],
      "execution_count": 183,
      "outputs": []
    },
    {
      "cell_type": "code",
      "metadata": {
        "id": "jtJFs3-hJVBV"
      },
      "source": [
        "def load_imgs_from_dir(dir, width, height):\n",
        "  img_data = []\n",
        "  img_label = []\n",
        "\n",
        "  categories = os.listdir(dir)\n",
        "  for category in categories:\n",
        "    for file in os.listdir(os.path.join(dir,category)):\n",
        "      img_path = os.path.join(dir,category,file)\n",
        "      image = cv2.imread(img_path)\n",
        "      image = cv2.cvtColor(image, cv2.COLOR_BGR2RGB)\n",
        "      image = cv2.resize(image,(width, height))\n",
        "      img_data.append(image)\n",
        "      img_label.append(category)\n",
        "  img_data = np.asarray(img_data)\n",
        "  img_label = np.asarray(img_label)\n",
        "  zip_list = list(zip(img_data, img_label))\n",
        "  random.shuffle(zip_list)\n",
        "  img_data, img_label = zip(*zip_list)\n",
        "  return img_data, img_label"
      ],
      "execution_count": 162,
      "outputs": []
    },
    {
      "cell_type": "code",
      "metadata": {
        "id": "64JQJ8u5LETD"
      },
      "source": [
        "data, label = load_imgs_from_dir(dir, width, height)"
      ],
      "execution_count": 163,
      "outputs": []
    },
    {
      "cell_type": "code",
      "metadata": {
        "id": "O4K_chq2OyA5"
      },
      "source": [
        "lb = LabelBinarizer()\n",
        "one_hot = lb.fit_transform(label)\n",
        "one_hot = to_categorical(one_hot)"
      ],
      "execution_count": 164,
      "outputs": []
    },
    {
      "cell_type": "code",
      "metadata": {
        "id": "5iTWUfd6QYYV"
      },
      "source": [
        "train_X, test_X, train_Y, test_Y = train_test_split(data, one_hot, test_size = 0.10,\n",
        "                                                    stratify = one_hot, random_state = 42)"
      ],
      "execution_count": 167,
      "outputs": []
    },
    {
      "cell_type": "code",
      "metadata": {
        "id": "P3rOO-GzX_7k"
      },
      "source": [
        "train_X, valid_X, train_Y, valid_Y = train_test_split(train_X, train_Y, test_size = 0.10,\n",
        "                                                    stratify = train_Y, random_state = 13)"
      ],
      "execution_count": 168,
      "outputs": []
    },
    {
      "cell_type": "code",
      "metadata": {
        "id": "4avGcDaMbHDk"
      },
      "source": [
        "train_X = np.asarray(train_X)\n",
        "test_X = np.asarray(test_X)\n",
        "valid_X = np.asarray(valid_X)\n",
        "valid_Y = np.asarray(valid_Y)\n",
        "train_Y = np.asarray(train_Y)\n",
        "test_Y = np.asarray(test_Y)"
      ],
      "execution_count": 169,
      "outputs": []
    },
    {
      "cell_type": "code",
      "metadata": {
        "id": "c5KlpiMjTXN3"
      },
      "source": [
        "base_model = VGG16(weights = \"imagenet\", include_top = False,\n",
        "                   input_tensor = Input(shape = (224, 224, 3)))"
      ],
      "execution_count": 170,
      "outputs": []
    },
    {
      "cell_type": "code",
      "metadata": {
        "id": "BA8eSNRyWQmw"
      },
      "source": [
        "head_model = base_model.output\n",
        "head_model = AveragePooling2D(pool_size = (4, 4))(head_model)\n",
        "head_model = Flatten(name = \"flatten\")(head_model)\n",
        "head_model = Dense(64, activation = \"relu\")(head_model)\n",
        "head_model = Dropout(0.5)(head_model)\n",
        "head_model = Dense(2, activation = \"softmax\")(head_model)"
      ],
      "execution_count": 171,
      "outputs": []
    },
    {
      "cell_type": "code",
      "metadata": {
        "id": "PFOOZ9nKW7nd"
      },
      "source": [
        "model = Model(inputs = base_model.input, outputs = head_model)"
      ],
      "execution_count": 172,
      "outputs": []
    },
    {
      "cell_type": "code",
      "metadata": {
        "id": "iYsZd6ThXDe7"
      },
      "source": [
        "for layer in base_model.layers:\n",
        "  layer.trainable = False"
      ],
      "execution_count": 173,
      "outputs": []
    },
    {
      "cell_type": "code",
      "metadata": {
        "id": "f1loT6TdXVzw"
      },
      "source": [
        "opt = Adam(learning_rate = learning_rate, decay = learning_rate/epochs)"
      ],
      "execution_count": 174,
      "outputs": []
    },
    {
      "cell_type": "code",
      "metadata": {
        "id": "6Kn-h2n2XnAw"
      },
      "source": [
        "model.compile(loss = \"binary_crossentropy\", optimizer = opt, metrics = [\"accuracy\"])"
      ],
      "execution_count": 175,
      "outputs": []
    },
    {
      "cell_type": "code",
      "metadata": {
        "colab": {
          "base_uri": "https://localhost:8080/"
        },
        "id": "cbGmo1ErX0el",
        "outputId": "f09ec5e6-06fc-4941-b877-ee6c782c76ee"
      },
      "source": [
        "H = model.fit(\n",
        "    x = train_X,\n",
        "    y = train_Y,\n",
        "    steps_per_epoch = len(train_X)//batch_size,\n",
        "    validation_data = (valid_X, valid_Y),\n",
        "    validation_steps = len(valid_X)//batch_size,\n",
        "    epochs = epochs\n",
        "              )"
      ],
      "execution_count": 184,
      "outputs": [
        {
          "output_type": "stream",
          "text": [
            "Epoch 1/20\n",
            "5/5 [==============================] - 18s 4s/step - loss: 0.0874 - accuracy: 0.9500\n",
            "Epoch 2/20\n",
            "5/5 [==============================] - 17s 3s/step - loss: 0.0611 - accuracy: 1.0000\n",
            "Epoch 3/20\n",
            "5/5 [==============================] - 18s 3s/step - loss: 0.0422 - accuracy: 1.0000\n",
            "Epoch 4/20\n",
            "5/5 [==============================] - 17s 3s/step - loss: 0.0644 - accuracy: 1.0000\n",
            "Epoch 5/20\n",
            "5/5 [==============================] - 17s 3s/step - loss: 0.0514 - accuracy: 1.0000\n",
            "Epoch 6/20\n",
            "5/5 [==============================] - 17s 3s/step - loss: 0.0665 - accuracy: 1.0000\n",
            "Epoch 7/20\n",
            "5/5 [==============================] - 17s 4s/step - loss: 0.0386 - accuracy: 1.0000\n",
            "Epoch 8/20\n",
            "5/5 [==============================] - 17s 3s/step - loss: 0.0515 - accuracy: 0.9750\n",
            "Epoch 9/20\n",
            "5/5 [==============================] - 17s 3s/step - loss: 0.0145 - accuracy: 1.0000\n",
            "Epoch 10/20\n",
            "5/5 [==============================] - 17s 3s/step - loss: 0.0242 - accuracy: 1.0000\n",
            "Epoch 11/20\n",
            "5/5 [==============================] - 17s 3s/step - loss: 0.0292 - accuracy: 1.0000\n",
            "Epoch 12/20\n",
            "5/5 [==============================] - 17s 3s/step - loss: 0.0435 - accuracy: 1.0000\n",
            "Epoch 13/20\n",
            "5/5 [==============================] - 17s 3s/step - loss: 0.0348 - accuracy: 1.0000\n",
            "Epoch 14/20\n",
            "5/5 [==============================] - 17s 3s/step - loss: 0.0952 - accuracy: 0.9500\n",
            "Epoch 15/20\n",
            "5/5 [==============================] - 17s 3s/step - loss: 0.0343 - accuracy: 1.0000\n",
            "Epoch 16/20\n",
            "5/5 [==============================] - 17s 3s/step - loss: 0.0382 - accuracy: 0.9750\n",
            "Epoch 17/20\n",
            "5/5 [==============================] - 17s 3s/step - loss: 0.0364 - accuracy: 1.0000\n",
            "Epoch 18/20\n",
            "5/5 [==============================] - 17s 3s/step - loss: 0.0117 - accuracy: 1.0000\n",
            "Epoch 19/20\n",
            "5/5 [==============================] - 17s 3s/step - loss: 0.0250 - accuracy: 1.0000\n",
            "Epoch 20/20\n",
            "5/5 [==============================] - 17s 3s/step - loss: 0.0262 - accuracy: 1.0000\n"
          ],
          "name": "stdout"
        }
      ]
    },
    {
      "cell_type": "code",
      "metadata": {
        "colab": {
          "base_uri": "https://localhost:8080/"
        },
        "id": "c5VmixdTeYv-",
        "outputId": "dbf70877-2d47-48df-bd45-4a0909d4fd2b"
      },
      "source": [
        "predIdxs = model.predict(test_X, batch_size=batch_size)\n",
        "predIdxs = np.argmax(predIdxs, axis=1)\n",
        "print(classification_report(test_Y.argmax(axis=1), predIdxs, target_names=lb.classes_))"
      ],
      "execution_count": 185,
      "outputs": [
        {
          "output_type": "stream",
          "text": [
            "              precision    recall  f1-score   support\n",
            "\n",
            "       covid       0.67      1.00      0.80         2\n",
            "      normal       1.00      0.67      0.80         3\n",
            "\n",
            "    accuracy                           0.80         5\n",
            "   macro avg       0.83      0.83      0.80         5\n",
            "weighted avg       0.87      0.80      0.80         5\n",
            "\n"
          ],
          "name": "stdout"
        }
      ]
    },
    {
      "cell_type": "code",
      "metadata": {
        "colab": {
          "base_uri": "https://localhost:8080/"
        },
        "id": "WgCOFj8dk8vs",
        "outputId": "e612b0d4-3129-4b6d-bb07-e9838ddd49a1"
      },
      "source": [
        "cm = confusion_matrix(test_Y.argmax(axis=1), predIdxs)\n",
        "total = sum(sum(cm))\n",
        "acc = (cm[0, 0] + cm[1, 1]) / total\n",
        "sensitivity = cm[0, 0] / (cm[0, 0] + cm[0, 1])\n",
        "specificity = cm[1, 1] / (cm[1, 0] + cm[1, 1])\n",
        "\n",
        "print(\"acc: {:.4f}\".format(acc))\n",
        "print(\"sensitivity: {:.4f}\".format(sensitivity))\n",
        "print(\"specificity: {:.4f}\".format(specificity))"
      ],
      "execution_count": 186,
      "outputs": [
        {
          "output_type": "stream",
          "text": [
            "acc: 0.8000\n",
            "sensitivity: 1.0000\n",
            "specificity: 0.6667\n"
          ],
          "name": "stdout"
        }
      ]
    },
    {
      "cell_type": "code",
      "metadata": {
        "colab": {
          "base_uri": "https://localhost:8080/",
          "height": 316
        },
        "id": "tWdwPBcolDeq",
        "outputId": "e241cb62-2554-465c-ad3e-7169a771b10c"
      },
      "source": [
        "N = epochs\n",
        "plt.style.use(\"ggplot\")\n",
        "plt.figure()\n",
        "plt.plot(np.arange(0, N), H.history[\"loss\"], label=\"train_loss\")\n",
        "plt.plot(np.arange(0, N), H.history[\"accuracy\"], label=\"train_acc\")\n",
        "plt.title(\"Training Loss and Accuracy on COVID-19 Dataset\")\n",
        "plt.xlabel(\"Epoch #\")\n",
        "plt.ylabel(\"Loss/Accuracy\")\n",
        "plt.legend(loc=\"lower left\")"
      ],
      "execution_count": 188,
      "outputs": [
        {
          "output_type": "execute_result",
          "data": {
            "text/plain": [
              "<matplotlib.legend.Legend at 0x7f8681624cd0>"
            ]
          },
          "metadata": {
            "tags": []
          },
          "execution_count": 188
        },
        {
          "output_type": "display_data",
          "data": {
            "image/png": "[encoded data removed]",
            "text/plain": [
              "<Figure size 432x288 with 1 Axes>"
            ]
          },
          "metadata": {
            "tags": []
          }
        }
      ]
    },
    {
      "cell_type": "code",
      "metadata": {
        "id": "VY3n35qnlcEN"
      },
      "source": [
        "model.save('Covid19-model.h5')"
      ],
      "execution_count": 191,
      "outputs": []
    }
  ]
}