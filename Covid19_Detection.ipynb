{
  "nbformat": 4,
  "nbformat_minor": 0,
  "metadata": {
    "colab": {
      "name": "Covid19-Detection.ipynb",
      "provenance": [],
      "collapsed_sections": [],
      "mount_file_id": "https://github.com/farkoo/Covid19-Detection-from-CTChest/blob/master/Covid19_Detection.ipynb",
      "authorship_tag": "ABX9TyN4xr4lMmQJFFPYMcRjeAAN",
      "include_colab_link": true
    },
    "kernelspec": {
      "name": "python3",
      "display_name": "Python 3"
    },
    "language_info": {
      "name": "python"
    },
    "accelerator": "GPU"
  },
  "cells": [
    {
      "cell_type": "markdown",
      "metadata": {
        "id": "view-in-github",
        "colab_type": "text"
      },
      "source": [
        "<a href=\"https://colab.research.google.com/github/farkoo/Covid19-Detection-from-ChestXRayImages/blob/master/Covid19_Detection.ipynb\" target=\"_parent\"><img src=\"https://colab.research.google.com/assets/colab-badge.svg\" alt=\"Open In Colab\"/></a>"
      ]
    },
    {
      "cell_type": "code",
      "metadata": {
        "colab": {
          "base_uri": "https://localhost:8080/"
        },
        "id": "DaaiF9bHIDZh",
        "outputId": "32a9c50e-131f-4e19-d45d-4a98656cf821"
      },
      "source": [
        "%cd drive/MyDrive"
      ],
      "execution_count": 1,
      "outputs": [
        {
          "output_type": "stream",
          "text": [
            "/content/drive/MyDrive\n"
          ],
          "name": "stdout"
        }
      ]
    },
    {
      "cell_type": "code",
      "metadata": {
        "colab": {
          "base_uri": "https://localhost:8080/"
        },
        "id": "3iiciEZLILWS",
        "outputId": "37916697-6993-4e10-ce97-b65c3c1577b3"
      },
      "source": [
        "!git clone \"https://github.com/farkoo/Covid19-Detection-from-ChestXRayImages.git\""
      ],
      "execution_count": 2,
      "outputs": [
        {
          "output_type": "stream",
          "text": [
            "Cloning into 'Covid19-Detection-from-ChestXRayImages'...\n",
            "remote: Enumerating objects: 47, done.\u001b[K\n",
            "remote: Counting objects: 100% (47/47), done.\u001b[K\n",
            "remote: Compressing objects: 100% (42/42), done.\u001b[K\n",
            "remote: Total 47 (delta 15), reused 0 (delta 0), pack-reused 0\u001b[K\n",
            "Unpacking objects: 100% (47/47), done.\n"
          ],
          "name": "stdout"
        }
      ]
    },
    {
      "cell_type": "code",
      "metadata": {
        "colab": {
          "base_uri": "https://localhost:8080/"
        },
        "id": "hWgrRZJoIRBR",
        "outputId": "44073213-6875-4a83-865b-a13453d63d21"
      },
      "source": [
        "%cd 'Covid19-Detection-from-ChestXRayImages'"
      ],
      "execution_count": 4,
      "outputs": [
        {
          "output_type": "stream",
          "text": [
            "/content/drive/My Drive/Covid19-Detection-from-ChestXRayImages\n"
          ],
          "name": "stdout"
        }
      ]
    },
    {
      "cell_type": "code",
      "metadata": {
        "colab": {
          "base_uri": "https://localhost:8080/"
        },
        "id": "wjdi4yB-IhoX",
        "outputId": "eb6691cf-e6f8-4f03-a1c8-5b0396cbbfd2"
      },
      "source": [
        "!7z x dataset.7z -odataset"
      ],
      "execution_count": 5,
      "outputs": [
        {
          "output_type": "stream",
          "text": [
            "\n",
            "7-Zip [64] 16.02 : Copyright (c) 1999-2016 Igor Pavlov : 2016-05-21\n",
            "p7zip Version 16.02 (locale=en_US.UTF-8,Utf16=on,HugeFiles=on,64 bits,2 CPUs Intel(R) Xeon(R) CPU @ 2.20GHz (406F0),ASM,AES-NI)\n",
            "\n",
            "Scanning the drive for archives:\n",
            "  0M Scan\b\b\b\b\b\b\b\b\b         \b\b\b\b\b\b\b\b\b1 file, 12417162 bytes (12 MiB)\n",
            "\n",
            "Extracting archive: dataset.7z\n",
            "--\n",
            "Path = dataset.7z\n",
            "Type = 7z\n",
            "Physical Size = 12417162\n",
            "Headers Size = 1053\n",
            "Method = LZMA:23\n",
            "Solid = +\n",
            "Blocks = 1\n",
            "\n",
            "  0%\b\b\b\b    \b\b\b\b 25% - dataset/covid/1.jpg\b\b\b\b\b\b\b\b\b\b\b\b\b\b\b\b\b\b\b\b\b\b\b\b\b\b                          \b\b\b\b\b\b\b\b\b\b\b\b\b\b\b\b\b\b\b\b\b\b\b\b\b\b 42% 16 - dataset/covid/17.jpeg\b\b\b\b\b\b\b\b\b\b\b\b\b\b\b\b\b\b\b\b\b\b\b\b\b\b\b\b\b\b\b                               \b\b\b\b\b\b\b\b\b\b\b\b\b\b\b\b\b\b\b\b\b\b\b\b\b\b\b\b\b\b\b 59% 20 - dataset/covid/21.jpeg\b\b\b\b\b\b\b\b\b\b\b\b\b\b\b\b\b\b\b\b\b\b\b\b\b\b\b\b\b\b\b                               \b\b\b\b\b\b\b\b\b\b\b\b\b\b\b\b\b\b\b\b\b\b\b\b\b\b\b\b\b\b\b 92% 26 - dataset/normal/2.jpeg\b\b\b\b\b\b\b\b\b\b\b\b\b\b\b\b\b\b\b\b\b\b\b\b\b\b\b\b\b\b\b                               \b\b\b\b\b\b\b\b\b\b\b\b\b\b\b\b\b\b\b\b\b\b\b\b\b\b\b\b\b\b\b 98% 48 - dataset/normal/18.jpeg\b\b\b\b\b\b\b\b\b\b\b\b\b\b\b\b\b\b\b\b\b\b\b\b\b\b\b\b\b\b\b\b                                \b\b\b\b\b\b\b\b\b\b\b\b\b\b\b\b\b\b\b\b\b\b\b\b\b\b\b\b\b\b\b\bEverything is Ok\n",
            "\n",
            "Folders: 3\n",
            "Files: 50\n",
            "Size:       12715586\n",
            "Compressed: 12417162\n"
          ],
          "name": "stdout"
        }
      ]
    },
    {
      "cell_type": "code",
      "metadata": {
        "id": "xAwwPCVTIxPS"
      },
      "source": [
        "from tensorflow.keras.preprocessing.image import ImageDataGenerator\n",
        "from tensorflow.keras.applications import VGG16\n",
        "from tensorflow.keras.layers import AveragePooling2D, Dropout, Flatten, Dense, Input\n",
        "from tensorflow.keras.models import Model\n",
        "from tensorflow.keras.optimizers import Adam\n",
        "from tensorflow.keras.utils import to_categorical\n",
        "from sklearn.preprocessing import LabelBinarizer\n",
        "from sklearn.model_selection import train_test_split\n",
        "from sklearn.metrics import classification_report, confusion_matrix\n",
        "from imutils import paths\n",
        "import matplotlib.pyplot as plt\n",
        "import numpy as np\n",
        "import argparse\n",
        "import cv2\n",
        "import os\n",
        "import random"
      ],
      "execution_count": 6,
      "outputs": []
    },
    {
      "cell_type": "code",
      "metadata": {
        "colab": {
          "base_uri": "https://localhost:8080/"
        },
        "id": "EWbjYUErLrzd",
        "outputId": "0894688b-e756-43f3-c972-dfce2f3892ae"
      },
      "source": [
        "%cd dataset"
      ],
      "execution_count": 14,
      "outputs": [
        {
          "output_type": "stream",
          "text": [
            "/content/drive/My Drive/Covid19-Detection-from-ChestXRayImages/dataset/dataset\n"
          ],
          "name": "stdout"
        }
      ]
    },
    {
      "cell_type": "code",
      "metadata": {
        "id": "Zx4OR5DoaBqx",
        "outputId": "f37826b0-aa56-471f-f915-e64a3ff3096f",
        "colab": {
          "base_uri": "https://localhost:8080/"
        }
      },
      "source": [
        "%cd .."
      ],
      "execution_count": 17,
      "outputs": [
        {
          "output_type": "stream",
          "text": [
            "/content/drive/My Drive/Covid19-Detection-from-ChestXRayImages/dataset\n"
          ],
          "name": "stdout"
        }
      ]
    },
    {
      "cell_type": "code",
      "metadata": {
        "id": "KcbyPvrGIm-s"
      },
      "source": [
        "# Hyper parameters\n",
        "learning_rate = 1e-3\n",
        "epochs = 25\n",
        "batch_size = 8\n",
        "dir = 'dataset'\n",
        "width = 224\n",
        "height = 224\n",
        "classes = 2"
      ],
      "execution_count": 26,
      "outputs": []
    },
    {
      "cell_type": "code",
      "metadata": {
        "id": "jtJFs3-hJVBV"
      },
      "source": [
        "def load_imgs_from_dir(dir, width, height):\n",
        "  img_data = []\n",
        "  img_label = []\n",
        "\n",
        "  categories = os.listdir(dir)\n",
        "  for category in categories:\n",
        "    for file in os.listdir(os.path.join(dir,category)):\n",
        "      img_path = os.path.join(dir,category,file)\n",
        "      image = cv2.imread(img_path)\n",
        "      image = cv2.cvtColor(image, cv2.COLOR_BGR2RGB)\n",
        "      image = cv2.resize(image,(width, height))\n",
        "      img_data.append(image)\n",
        "      img_label.append(category)\n",
        "  img_data = np.asarray(img_data)\n",
        "  img_label = np.asarray(img_label)\n",
        "  zip_list = list(zip(img_data, img_label))\n",
        "  random.shuffle(zip_list)\n",
        "  img_data, img_label = zip(*zip_list)\n",
        "  return img_data, img_label"
      ],
      "execution_count": 27,
      "outputs": []
    },
    {
      "cell_type": "code",
      "metadata": {
        "id": "64JQJ8u5LETD"
      },
      "source": [
        "data, label = load_imgs_from_dir(dir, width, height)"
      ],
      "execution_count": 28,
      "outputs": []
    },
    {
      "cell_type": "code",
      "metadata": {
        "id": "O4K_chq2OyA5"
      },
      "source": [
        "lb = LabelBinarizer()\n",
        "one_hot = lb.fit_transform(label)\n",
        "one_hot = to_categorical(one_hot)"
      ],
      "execution_count": 29,
      "outputs": []
    },
    {
      "cell_type": "code",
      "metadata": {
        "id": "5iTWUfd6QYYV"
      },
      "source": [
        "train_X, test_X, train_Y, test_Y = train_test_split(data, one_hot, test_size = 0.10,\n",
        "                                                    stratify = one_hot, random_state = 42)"
      ],
      "execution_count": 30,
      "outputs": []
    },
    {
      "cell_type": "code",
      "metadata": {
        "id": "P3rOO-GzX_7k"
      },
      "source": [
        "train_X, valid_X, train_Y, valid_Y = train_test_split(train_X, train_Y, test_size = 0.10,\n",
        "                                                    stratify = train_Y, random_state = 13)"
      ],
      "execution_count": 31,
      "outputs": []
    },
    {
      "cell_type": "code",
      "metadata": {
        "id": "4avGcDaMbHDk"
      },
      "source": [
        "train_X = np.asarray(train_X)\n",
        "test_X = np.asarray(test_X)\n",
        "valid_X = np.asarray(valid_X)\n",
        "valid_Y = np.asarray(valid_Y)\n",
        "train_Y = np.asarray(train_Y)\n",
        "test_Y = np.asarray(test_Y)"
      ],
      "execution_count": 32,
      "outputs": []
    },
    {
      "cell_type": "code",
      "metadata": {
        "id": "c5KlpiMjTXN3",
        "outputId": "6514124f-1f55-4592-fa6b-6796cacdf161",
        "colab": {
          "base_uri": "https://localhost:8080/"
        }
      },
      "source": [
        "base_model = VGG16(weights = \"imagenet\", include_top = False,\n",
        "                   input_tensor = Input(shape = (224, 224, 3)))"
      ],
      "execution_count": 33,
      "outputs": [
        {
          "output_type": "stream",
          "text": [
            "Downloading data from https://storage.googleapis.com/tensorflow/keras-applications/vgg16/vgg16_weights_tf_dim_ordering_tf_kernels_notop.h5\n",
            "58892288/58889256 [==============================] - 0s 0us/step\n"
          ],
          "name": "stdout"
        }
      ]
    },
    {
      "cell_type": "code",
      "metadata": {
        "id": "BA8eSNRyWQmw"
      },
      "source": [
        "head_model = base_model.output\n",
        "head_model = AveragePooling2D(pool_size = (4, 4))(head_model)\n",
        "head_model = Flatten(name = \"flatten\")(head_model)\n",
        "head_model = Dense(64, activation = \"relu\")(head_model)\n",
        "head_model = Dropout(0.5)(head_model)\n",
        "head_model = Dense(2, activation = \"softmax\")(head_model)"
      ],
      "execution_count": 34,
      "outputs": []
    },
    {
      "cell_type": "code",
      "metadata": {
        "id": "PFOOZ9nKW7nd"
      },
      "source": [
        "model = Model(inputs = base_model.input, outputs = head_model)"
      ],
      "execution_count": 35,
      "outputs": []
    },
    {
      "cell_type": "code",
      "metadata": {
        "id": "iYsZd6ThXDe7"
      },
      "source": [
        "for layer in base_model.layers:\n",
        "  layer.trainable = False"
      ],
      "execution_count": 36,
      "outputs": []
    },
    {
      "cell_type": "code",
      "metadata": {
        "id": "f1loT6TdXVzw"
      },
      "source": [
        "opt = Adam(learning_rate = learning_rate, decay = learning_rate/epochs)"
      ],
      "execution_count": 37,
      "outputs": []
    },
    {
      "cell_type": "code",
      "metadata": {
        "id": "6Kn-h2n2XnAw"
      },
      "source": [
        "model.compile(loss = \"binary_crossentropy\", optimizer = opt, metrics = [\"accuracy\"])"
      ],
      "execution_count": 38,
      "outputs": []
    },
    {
      "cell_type": "code",
      "metadata": {
        "colab": {
          "base_uri": "https://localhost:8080/"
        },
        "id": "cbGmo1ErX0el",
        "outputId": "b5627d32-c14a-439d-c6d7-330865779ee0"
      },
      "source": [
        "H = model.fit(\n",
        "    x = train_X,\n",
        "    y = train_Y,\n",
        "    steps_per_epoch = len(train_X)//batch_size,\n",
        "    validation_data = (valid_X, valid_Y),\n",
        "    validation_steps = len(valid_X)//batch_size,\n",
        "    epochs = epochs\n",
        "              )"
      ],
      "execution_count": 39,
      "outputs": [
        {
          "output_type": "stream",
          "text": [
            "Epoch 1/25\n",
            "5/5 [==============================] - 32s 53ms/step - loss: 3.4919 - accuracy: 0.5250\n",
            "Epoch 2/25\n",
            "5/5 [==============================] - 0s 49ms/step - loss: 2.9466 - accuracy: 0.6250\n",
            "Epoch 3/25\n",
            "5/5 [==============================] - 0s 47ms/step - loss: 1.5844 - accuracy: 0.6250\n",
            "Epoch 4/25\n",
            "5/5 [==============================] - 0s 48ms/step - loss: 1.5972 - accuracy: 0.6750\n",
            "Epoch 5/25\n",
            "5/5 [==============================] - 0s 48ms/step - loss: 1.0106 - accuracy: 0.8750\n",
            "Epoch 6/25\n",
            "5/5 [==============================] - 0s 48ms/step - loss: 0.4193 - accuracy: 0.8750\n",
            "Epoch 7/25\n",
            "5/5 [==============================] - 0s 48ms/step - loss: 0.5952 - accuracy: 0.9500\n",
            "Epoch 8/25\n",
            "5/5 [==============================] - 0s 48ms/step - loss: 0.6369 - accuracy: 0.8750\n",
            "Epoch 9/25\n",
            "5/5 [==============================] - 0s 49ms/step - loss: 0.2422 - accuracy: 0.9500\n",
            "Epoch 10/25\n",
            "5/5 [==============================] - 0s 48ms/step - loss: 0.1695 - accuracy: 1.0000\n",
            "Epoch 11/25\n",
            "5/5 [==============================] - 0s 48ms/step - loss: 0.2294 - accuracy: 0.9250\n",
            "Epoch 12/25\n",
            "5/5 [==============================] - 0s 48ms/step - loss: 0.1380 - accuracy: 0.9750\n",
            "Epoch 13/25\n",
            "5/5 [==============================] - 0s 49ms/step - loss: 0.1405 - accuracy: 0.9500\n",
            "Epoch 14/25\n",
            "5/5 [==============================] - 0s 48ms/step - loss: 0.2700 - accuracy: 0.9500\n",
            "Epoch 15/25\n",
            "5/5 [==============================] - 0s 48ms/step - loss: 0.1738 - accuracy: 0.9750\n",
            "Epoch 16/25\n",
            "5/5 [==============================] - 0s 49ms/step - loss: 0.1303 - accuracy: 0.9750\n",
            "Epoch 17/25\n",
            "5/5 [==============================] - 0s 48ms/step - loss: 0.1348 - accuracy: 0.9500\n",
            "Epoch 18/25\n",
            "5/5 [==============================] - 0s 48ms/step - loss: 0.0730 - accuracy: 1.0000\n",
            "Epoch 19/25\n",
            "5/5 [==============================] - 0s 48ms/step - loss: 0.0551 - accuracy: 1.0000\n",
            "Epoch 20/25\n",
            "5/5 [==============================] - 0s 49ms/step - loss: 0.0468 - accuracy: 1.0000\n",
            "Epoch 21/25\n",
            "5/5 [==============================] - 0s 49ms/step - loss: 0.1167 - accuracy: 0.9750\n",
            "Epoch 22/25\n",
            "5/5 [==============================] - 0s 49ms/step - loss: 0.0575 - accuracy: 1.0000\n",
            "Epoch 23/25\n",
            "5/5 [==============================] - 0s 48ms/step - loss: 0.1415 - accuracy: 0.9500\n",
            "Epoch 24/25\n",
            "5/5 [==============================] - 0s 49ms/step - loss: 0.0739 - accuracy: 0.9750\n",
            "Epoch 25/25\n",
            "5/5 [==============================] - 0s 48ms/step - loss: 0.0563 - accuracy: 1.0000\n"
          ],
          "name": "stdout"
        }
      ]
    },
    {
      "cell_type": "code",
      "metadata": {
        "colab": {
          "base_uri": "https://localhost:8080/"
        },
        "id": "c5VmixdTeYv-",
        "outputId": "bcf9d0de-15ec-49ac-d3e3-c7b9c928dfa5"
      },
      "source": [
        "predIdxs = model.predict(test_X, batch_size=batch_size)\n",
        "predIdxs = np.argmax(predIdxs, axis=1)\n",
        "print(classification_report(test_Y.argmax(axis=1), predIdxs, target_names=lb.classes_))"
      ],
      "execution_count": 40,
      "outputs": [
        {
          "output_type": "stream",
          "text": [
            "              precision    recall  f1-score   support\n",
            "\n",
            "       covid       1.00      1.00      1.00         2\n",
            "      normal       1.00      1.00      1.00         3\n",
            "\n",
            "    accuracy                           1.00         5\n",
            "   macro avg       1.00      1.00      1.00         5\n",
            "weighted avg       1.00      1.00      1.00         5\n",
            "\n"
          ],
          "name": "stdout"
        }
      ]
    },
    {
      "cell_type": "code",
      "metadata": {
        "colab": {
          "base_uri": "https://localhost:8080/"
        },
        "id": "WgCOFj8dk8vs",
        "outputId": "3fcf0040-7842-4fae-988a-87e637c38360"
      },
      "source": [
        "cm = confusion_matrix(test_Y.argmax(axis=1), predIdxs)\n",
        "total = sum(sum(cm))\n",
        "acc = (cm[0, 0] + cm[1, 1]) / total\n",
        "sensitivity = cm[0, 0] / (cm[0, 0] + cm[0, 1])\n",
        "specificity = cm[1, 1] / (cm[1, 0] + cm[1, 1])\n",
        "\n",
        "print(\"acc: {:.4f}\".format(acc))\n",
        "print(\"sensitivity: {:.4f}\".format(sensitivity))\n",
        "print(\"specificity: {:.4f}\".format(specificity))"
      ],
      "execution_count": 41,
      "outputs": [
        {
          "output_type": "stream",
          "text": [
            "acc: 1.0000\n",
            "sensitivity: 1.0000\n",
            "specificity: 1.0000\n"
          ],
          "name": "stdout"
        }
      ]
    },
    {
      "cell_type": "code",
      "metadata": {
        "colab": {
          "base_uri": "https://localhost:8080/",
          "height": 316
        },
        "id": "tWdwPBcolDeq",
        "outputId": "5775b9b9-d384-4c0f-d866-49e68bf57dca"
      },
      "source": [
        "N = epochs\n",
        "plt.style.use(\"ggplot\")\n",
        "plt.figure()\n",
        "plt.plot(np.arange(0, N), H.history[\"loss\"], label=\"train_loss\")\n",
        "plt.plot(np.arange(0, N), H.history[\"accuracy\"], label=\"train_acc\")\n",
        "plt.title(\"Training Loss and Accuracy on COVID-19 Dataset\")\n",
        "plt.xlabel(\"Epoch #\")\n",
        "plt.ylabel(\"Loss/Accuracy\")\n",
        "plt.legend(loc=\"lower left\")"
      ],
      "execution_count": 42,
      "outputs": [
        {
          "output_type": "execute_result",
          "data": {
            "text/plain": [
              "<matplotlib.legend.Legend at 0x7f9a2d9fc590>"
            ]
          },
          "metadata": {
            "tags": []
          },
          "execution_count": 42
        },
        {
          "output_type": "display_data",
          "data": {
            "image/png": "[encoded data removed]",
            "text/plain": [
              "<Figure size 432x288 with 1 Axes>"
            ]
          },
          "metadata": {
            "tags": []
          }
        }
      ]
    },
    {
      "cell_type": "code",
      "metadata": {
        "id": "VY3n35qnlcEN"
      },
      "source": [
        "model.save('Covid19-model.h5')"
      ],
      "execution_count": 43,
      "outputs": []
    }
  ]
}